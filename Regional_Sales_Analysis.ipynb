{
  "nbformat": 4,
  "nbformat_minor": 0,
  "metadata": {
    "colab": {
      "provenance": [],
      "mount_file_id": "1DjNK9eBP9sNQH_bp_WTkFryHQ4G-KmWS",
      "authorship_tag": "ABX9TyOUmuWV3eHFyBDgdRMaBdom",
      "include_colab_link": true
    },
    "kernelspec": {
      "name": "python3",
      "display_name": "Python 3"
    },
    "language_info": {
      "name": "python"
    }
  },
  "cells": [
    {
      "cell_type": "markdown",
      "metadata": {
        "id": "view-in-github",
        "colab_type": "text"
      },
      "source": [
        "<a href=\"https://colab.research.google.com/github/smmurdock/Regional-Sales-Analysis/blob/main/Regional_Sales_Analysis.ipynb\" target=\"_parent\"><img src=\"https://colab.research.google.com/assets/colab-badge.svg\" alt=\"Open In Colab\"/></a>"
      ]
    },
    {
      "cell_type": "markdown",
      "source": [
        "Project issued by: Codecademy, Data Analytics Bootcamp\n",
        "Project completed by: Shanay Murdock"
      ],
      "metadata": {
        "id": "RmoW5vRX0sP9"
      }
    },
    {
      "cell_type": "code",
      "execution_count": null,
      "metadata": {
        "id": "do_Jgoy70lN-"
      },
      "outputs": [],
      "source": []
    }
  ]
}